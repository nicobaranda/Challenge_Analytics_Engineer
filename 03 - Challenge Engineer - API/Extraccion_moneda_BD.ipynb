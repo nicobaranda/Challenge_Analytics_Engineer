{
 "cells": [
  {
   "cell_type": "code",
   "execution_count": 10,
   "id": "93efe6b6-ab91-4113-8546-e5f8cd3dceda",
   "metadata": {},
   "outputs": [],
   "source": [
    "# Importar librerias\n",
    "import requests\n",
    "import json\n",
    "import pandas as pd\n",
    "import pymysql"
   ]
  },
  {
   "cell_type": "code",
   "execution_count": 11,
   "id": "c0ad5929-9552-4257-b6e4-ee05efd3611e",
   "metadata": {},
   "outputs": [],
   "source": [
    "# Api URL\n",
    "Monedas = requests.get(\"http://economia.awesomeapi.com.br/json/last/USD-BRL,EUR-BRL,BTC-BRL\")\n",
    "Monedas = Monedas.json()\n",
    "\n",
    "# Print json\n",
    "# Monedas"
   ]
  },
  {
   "cell_type": "code",
   "execution_count": 12,
   "id": "83a3224e-929e-4606-b165-935370c88420",
   "metadata": {},
   "outputs": [
    {
     "data": {
      "text/html": [
       "<div>\n",
       "<style scoped>\n",
       "    .dataframe tbody tr th:only-of-type {\n",
       "        vertical-align: middle;\n",
       "    }\n",
       "\n",
       "    .dataframe tbody tr th {\n",
       "        vertical-align: top;\n",
       "    }\n",
       "\n",
       "    .dataframe thead th {\n",
       "        text-align: right;\n",
       "    }\n",
       "</style>\n",
       "<table border=\"1\" class=\"dataframe\">\n",
       "  <thead>\n",
       "    <tr style=\"text-align: right;\">\n",
       "      <th></th>\n",
       "      <th>index</th>\n",
       "      <th>code</th>\n",
       "      <th>codein</th>\n",
       "      <th>name</th>\n",
       "      <th>high</th>\n",
       "      <th>low</th>\n",
       "      <th>varBid</th>\n",
       "      <th>pctChange</th>\n",
       "      <th>bid</th>\n",
       "      <th>ask</th>\n",
       "      <th>timestamp</th>\n",
       "      <th>create_date</th>\n",
       "    </tr>\n",
       "  </thead>\n",
       "  <tbody>\n",
       "    <tr>\n",
       "      <th>0</th>\n",
       "      <td>USDBRL</td>\n",
       "      <td>USD</td>\n",
       "      <td>BRL</td>\n",
       "      <td>Dólar Americano/Real Brasileiro</td>\n",
       "      <td>5.8079</td>\n",
       "      <td>5.79602</td>\n",
       "      <td>-0.001</td>\n",
       "      <td>-0.017221</td>\n",
       "      <td>5.8047</td>\n",
       "      <td>5.8077</td>\n",
       "      <td>1745296316</td>\n",
       "      <td>2025-04-22 01:31:56</td>\n",
       "    </tr>\n",
       "    <tr>\n",
       "      <th>1</th>\n",
       "      <td>EURBRL</td>\n",
       "      <td>EUR</td>\n",
       "      <td>BRL</td>\n",
       "      <td>Euro/Real Brasileiro</td>\n",
       "      <td>6.69344</td>\n",
       "      <td>6.65779</td>\n",
       "      <td>0.008933</td>\n",
       "      <td>0.133729</td>\n",
       "      <td>6.68896</td>\n",
       "      <td>6.70691</td>\n",
       "      <td>1745296308</td>\n",
       "      <td>2025-04-22 01:31:48</td>\n",
       "    </tr>\n",
       "    <tr>\n",
       "      <th>2</th>\n",
       "      <td>BTCBRL</td>\n",
       "      <td>BTC</td>\n",
       "      <td>BRL</td>\n",
       "      <td>Bitcoin/Real Brasileiro</td>\n",
       "      <td>517726</td>\n",
       "      <td>504465</td>\n",
       "      <td>4927</td>\n",
       "      <td>0.968</td>\n",
       "      <td>513705</td>\n",
       "      <td>513706</td>\n",
       "      <td>1745296404</td>\n",
       "      <td>2025-04-22 01:33:24</td>\n",
       "    </tr>\n",
       "  </tbody>\n",
       "</table>\n",
       "</div>"
      ],
      "text/plain": [
       "    index code codein                             name     high      low  \\\n",
       "0  USDBRL  USD    BRL  Dólar Americano/Real Brasileiro   5.8079  5.79602   \n",
       "1  EURBRL  EUR    BRL             Euro/Real Brasileiro  6.69344  6.65779   \n",
       "2  BTCBRL  BTC    BRL          Bitcoin/Real Brasileiro   517726   504465   \n",
       "\n",
       "     varBid  pctChange      bid      ask   timestamp          create_date  \n",
       "0    -0.001  -0.017221   5.8047   5.8077  1745296316  2025-04-22 01:31:56  \n",
       "1  0.008933   0.133729  6.68896  6.70691  1745296308  2025-04-22 01:31:48  \n",
       "2      4927      0.968   513705   513706  1745296404  2025-04-22 01:33:24  "
      ]
     },
     "execution_count": 12,
     "metadata": {},
     "output_type": "execute_result"
    }
   ],
   "source": [
    "# Convertir diccionario en una tabla\n",
    "df = pd.DataFrame.from_dict(Monedas, orient = 'index').reset_index()\n",
    "df"
   ]
  },
  {
   "cell_type": "code",
   "execution_count": 13,
   "id": "1245ac49-508b-4a76-a954-9d23fb6dd7e1",
   "metadata": {},
   "outputs": [
    {
     "data": {
      "text/html": [
       "<div>\n",
       "<style scoped>\n",
       "    .dataframe tbody tr th:only-of-type {\n",
       "        vertical-align: middle;\n",
       "    }\n",
       "\n",
       "    .dataframe tbody tr th {\n",
       "        vertical-align: top;\n",
       "    }\n",
       "\n",
       "    .dataframe thead th {\n",
       "        text-align: right;\n",
       "    }\n",
       "</style>\n",
       "<table border=\"1\" class=\"dataframe\">\n",
       "  <thead>\n",
       "    <tr style=\"text-align: right;\">\n",
       "      <th></th>\n",
       "      <th>code</th>\n",
       "      <th>codein</th>\n",
       "      <th>bid</th>\n",
       "      <th>ask</th>\n",
       "      <th>create_date</th>\n",
       "    </tr>\n",
       "  </thead>\n",
       "  <tbody>\n",
       "    <tr>\n",
       "      <th>0</th>\n",
       "      <td>USD</td>\n",
       "      <td>BRL</td>\n",
       "      <td>5.8047</td>\n",
       "      <td>5.8077</td>\n",
       "      <td>2025-04-22 01:31:56</td>\n",
       "    </tr>\n",
       "    <tr>\n",
       "      <th>1</th>\n",
       "      <td>EUR</td>\n",
       "      <td>BRL</td>\n",
       "      <td>6.68896</td>\n",
       "      <td>6.70691</td>\n",
       "      <td>2025-04-22 01:31:48</td>\n",
       "    </tr>\n",
       "    <tr>\n",
       "      <th>2</th>\n",
       "      <td>BTC</td>\n",
       "      <td>BRL</td>\n",
       "      <td>513705</td>\n",
       "      <td>513706</td>\n",
       "      <td>2025-04-22 01:33:24</td>\n",
       "    </tr>\n",
       "  </tbody>\n",
       "</table>\n",
       "</div>"
      ],
      "text/plain": [
       "  code codein      bid      ask          create_date\n",
       "0  USD    BRL   5.8047   5.8077  2025-04-22 01:31:56\n",
       "1  EUR    BRL  6.68896  6.70691  2025-04-22 01:31:48\n",
       "2  BTC    BRL   513705   513706  2025-04-22 01:33:24"
      ]
     },
     "execution_count": 13,
     "metadata": {},
     "output_type": "execute_result"
    }
   ],
   "source": [
    "# Especificar Columnas\n",
    "df_moneda = df.loc[:, ['code','codein','bid','ask','create_date']]\n",
    "\n",
    "# Print table\n",
    "df_moneda"
   ]
  },
  {
   "cell_type": "code",
   "execution_count": 14,
   "id": "3bcf3908-2bca-4ad7-9e0f-95745d773687",
   "metadata": {},
   "outputs": [
    {
     "data": {
      "text/html": [
       "<div>\n",
       "<style scoped>\n",
       "    .dataframe tbody tr th:only-of-type {\n",
       "        vertical-align: middle;\n",
       "    }\n",
       "\n",
       "    .dataframe tbody tr th {\n",
       "        vertical-align: top;\n",
       "    }\n",
       "\n",
       "    .dataframe thead th {\n",
       "        text-align: right;\n",
       "    }\n",
       "</style>\n",
       "<table border=\"1\" class=\"dataframe\">\n",
       "  <thead>\n",
       "    <tr style=\"text-align: right;\">\n",
       "      <th></th>\n",
       "      <th>moneda_base</th>\n",
       "      <th>moneda_destino</th>\n",
       "      <th>valor_compra</th>\n",
       "      <th>valor_venda</th>\n",
       "      <th>data_hora</th>\n",
       "    </tr>\n",
       "  </thead>\n",
       "  <tbody>\n",
       "    <tr>\n",
       "      <th>0</th>\n",
       "      <td>USD</td>\n",
       "      <td>BRL</td>\n",
       "      <td>5.8047</td>\n",
       "      <td>5.8077</td>\n",
       "      <td>2025-04-22 01:31:56</td>\n",
       "    </tr>\n",
       "    <tr>\n",
       "      <th>1</th>\n",
       "      <td>EUR</td>\n",
       "      <td>BRL</td>\n",
       "      <td>6.68896</td>\n",
       "      <td>6.70691</td>\n",
       "      <td>2025-04-22 01:31:48</td>\n",
       "    </tr>\n",
       "    <tr>\n",
       "      <th>2</th>\n",
       "      <td>BTC</td>\n",
       "      <td>BRL</td>\n",
       "      <td>513705</td>\n",
       "      <td>513706</td>\n",
       "      <td>2025-04-22 01:33:24</td>\n",
       "    </tr>\n",
       "  </tbody>\n",
       "</table>\n",
       "</div>"
      ],
      "text/plain": [
       "  moneda_base moneda_destino valor_compra valor_venda            data_hora\n",
       "0         USD            BRL       5.8047      5.8077  2025-04-22 01:31:56\n",
       "1         EUR            BRL      6.68896     6.70691  2025-04-22 01:31:48\n",
       "2         BTC            BRL       513705      513706  2025-04-22 01:33:24"
      ]
     },
     "execution_count": 14,
     "metadata": {},
     "output_type": "execute_result"
    }
   ],
   "source": [
    "# Renombrar Columnas\n",
    "df_moneda.rename(columns = {'code':'moneda_base', 'codein':'moneda_destino', 'bid':'valor_compra', 'ask':'valor_venda', 'create_date':'data_hora'}, inplace = True)\n",
    "\n",
    "# Print table\n",
    "df_moneda"
   ]
  },
  {
   "cell_type": "code",
   "execution_count": 15,
   "id": "fee520dc-b42d-49ef-b481-a1e5843c4002",
   "metadata": {},
   "outputs": [],
   "source": [
    "# Conectar a base de datos mysql en docker desktop\n",
    "connection = pymysql.connect(host = 'localhost',\n",
    "                             user = 'myuser',\n",
    "                             password = 'mypassword',\n",
    "                             db = 'mydatabase')\n",
    "\n",
    "# Crear cursor\n",
    "cursor=connection.cursor()"
   ]
  },
  {
   "cell_type": "code",
   "execution_count": 16,
   "id": "7bb2ef64-63e9-4507-afff-7a147c841f17",
   "metadata": {},
   "outputs": [],
   "source": [
    "# Crear lista de columnas para insertar\n",
    "cols = \",\".join([str(i) for i in df_moneda.columns.tolist()])\n",
    "\n",
    "# Insertar registros DataFrame uno por uno\n",
    "for i,row in df_moneda.iterrows():\n",
    "    sql = \"INSERT INTO Extracion_Monedas (\" +cols + \") VALUES (\" + \"%s,\"*(len(row)-1) + \"%s)\"\n",
    "    cursor.execute(sql, tuple(row))\n",
    "\n",
    "# Confirmar conexion para guardar cambios\n",
    "connection.commit()"
   ]
  },
  {
   "cell_type": "code",
   "execution_count": 17,
   "id": "8e9f88b5-e869-4ca4-a44c-2d8d79267232",
   "metadata": {},
   "outputs": [
    {
     "name": "stdout",
     "output_type": "stream",
     "text": [
      "('USD', 'BRL', 5.8049, 5.8079, datetime.datetime(2025, 4, 22, 1, 15, 43))\n",
      "('EUR', 'BRL', 6.68896, 6.70691, datetime.datetime(2025, 4, 22, 1, 15, 34))\n",
      "('BTC', 'BRL', 513217.0, 513221.0, datetime.datetime(2025, 4, 22, 1, 15, 55))\n",
      "('USD', 'BRL', 5.8053, 5.8083, datetime.datetime(2025, 4, 22, 1, 20, 33))\n",
      "('EUR', 'BRL', 6.69344, 6.71141, datetime.datetime(2025, 4, 22, 1, 16, 19))\n",
      "('BTC', 'BRL', 513816.0, 513817.0, datetime.datetime(2025, 4, 22, 1, 21, 3))\n",
      "('USD', 'BRL', 5.8066, 5.8096, datetime.datetime(2025, 4, 22, 1, 22, 2))\n",
      "('EUR', 'BRL', 6.69344, 6.71141, datetime.datetime(2025, 4, 22, 1, 21, 54))\n",
      "('BTC', 'BRL', 513978.0, 513979.0, datetime.datetime(2025, 4, 22, 1, 23, 6))\n",
      "('USD', 'BRL', 5.8062, 5.8092, datetime.datetime(2025, 4, 22, 1, 26, 6))\n",
      "('EUR', 'BRL', 6.69344, 6.71141, datetime.datetime(2025, 4, 22, 1, 25, 58))\n",
      "('BTC', 'BRL', 513596.0, 513597.0, datetime.datetime(2025, 4, 22, 1, 27, 9))\n",
      "('USD', 'BRL', 5.8047, 5.8077, datetime.datetime(2025, 4, 22, 1, 31, 56))\n",
      "('EUR', 'BRL', 6.68896, 6.70691, datetime.datetime(2025, 4, 22, 1, 31, 48))\n",
      "('BTC', 'BRL', 513705.0, 513706.0, datetime.datetime(2025, 4, 22, 1, 33, 24))\n"
     ]
    }
   ],
   "source": [
    "# Ejecutar query\n",
    "sql = \"SELECT * FROM `Extracion_Monedas`\"\n",
    "cursor.execute(sql)\n",
    "\n",
    "# Obtener todos los registros\n",
    "result = cursor.fetchall()\n",
    "for i in result:\n",
    "    print(i)"
   ]
  },
  {
   "cell_type": "code",
   "execution_count": 18,
   "id": "c9fa0c3d-36dc-4c30-a82a-4cd98b9fc0ef",
   "metadata": {},
   "outputs": [],
   "source": [
    "# Al finalizar el proceso cerrar la conexion\n",
    "connection.close()"
   ]
  }
 ],
 "metadata": {
  "kernelspec": {
   "display_name": "Python 3 (ipykernel)",
   "language": "python",
   "name": "python3"
  },
  "language_info": {
   "codemirror_mode": {
    "name": "ipython",
    "version": 3
   },
   "file_extension": ".py",
   "mimetype": "text/x-python",
   "name": "python",
   "nbconvert_exporter": "python",
   "pygments_lexer": "ipython3",
   "version": "3.10.6"
  }
 },
 "nbformat": 4,
 "nbformat_minor": 5
}
